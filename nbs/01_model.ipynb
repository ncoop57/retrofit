{
 "cells": [
  {
   "cell_type": "code",
   "execution_count": null,
   "metadata": {},
   "outputs": [],
   "source": [
    "# default_exp model"
   ]
  },
  {
   "cell_type": "markdown",
   "metadata": {},
   "source": [
    "# Model\n",
    "\n",
    "> API details."
   ]
  },
  {
   "cell_type": "code",
   "execution_count": null,
   "metadata": {},
   "outputs": [],
   "source": [
    "#hide\n",
    "from nbdev.showdoc import *"
   ]
  },
  {
   "cell_type": "code",
   "execution_count": null,
   "metadata": {},
   "outputs": [],
   "source": [
    "# export\n",
    "import pytorch_lightning as pl\n",
    "\n",
    "from transformers import AdamW, get_cosine_with_hard_restarts_schedule_with_warmup as cosine_restart_schedule"
   ]
  },
  {
   "cell_type": "code",
   "execution_count": null,
   "metadata": {},
   "outputs": [],
   "source": [
    "# export\n",
    "# Code from: https://github.com/huggingface/transformers/blob/master/examples/research_projects/codeparrot/scripts/codeparrot_training.py#L113\n",
    "def get_grouped_params(model, weight_decay, no_decay=[\"bias\", \"LayerNorm.weight\"]):\n",
    "    params_with_wd, params_without_wd = [], []\n",
    "    for n, p in model.named_parameters():\n",
    "        if any(nd in n for nd in no_decay):\n",
    "            params_without_wd.append(p)\n",
    "        else:\n",
    "            params_with_wd.append(p)\n",
    "    return [\n",
    "        {\"params\": params_with_wd, \"weight_decay\": weight_decay},\n",
    "        {\"params\": params_without_wd, \"weight_decay\": 0.0},\n",
    "    ]"
   ]
  },
  {
   "cell_type": "code",
   "execution_count": null,
   "metadata": {},
   "outputs": [],
   "source": [
    "# export\n",
    "class RetroFitModelWrapper(pl.LightningModule):\n",
    "    def __init__(\n",
    "        self,\n",
    "        model,\n",
    "        weight_decay=0.1,\n",
    "        lr=5e-4,\n",
    "        num_warmup_steps=2_000,\n",
    "        freeze_decoder=True\n",
    "    ):\n",
    "        super().__init__()\n",
    "        self.model = model\n",
    "        self.weight_decay = weight_decay\n",
    "        self.lr = lr\n",
    "        self.num_warmup_steps = num_warmup_steps\n",
    "        self.freeze_decoder = freeze_decoder\n",
    "\n",
    "        self.save_hyperparameters()\n",
    "\n",
    "    def training_step(self, batch, batch_idx):\n",
    "        loss = self.model(input_ids=batch[\"retrieved_input_ids\"], labels=batch[\"input_ids\"]).loss\n",
    "\n",
    "        self.log(\"trn_loss\", loss, on_step=True, on_epoch=True, logger=True)\n",
    "        return loss\n",
    "\n",
    "    def validation_step(self, batch, batch_idx):\n",
    "        loss = self.model(input_ids=batch[\"retrieved_input_ids\"], labels=batch[\"input_ids\"]).loss\n",
    "\n",
    "        self.log(\"val_loss\", loss, on_epoch=True, logger=True)\n",
    "        return loss\n",
    "    \n",
    "    def configure_optimizers(self):\n",
    "        # Prepare the optimizer and learning rate scheduler\n",
    "        param_model = self.model if not self.freeze_decoder else self.model.encoder\n",
    "        optimizer = AdamW(get_grouped_params(param_model, self.weight_decay), lr=self.lr)\n",
    "        lr_scheduler = cosine_restart_schedule(\n",
    "            optimizer=optimizer,\n",
    "            num_warmup_steps=self.num_warmup_steps,\n",
    "            num_training_steps=self.total_steps(),\n",
    "        )\n",
    "        return [optimizer], [lr_scheduler]\n",
    "    \n",
    "    def total_steps(self) -> int:\n",
    "        \"\"\"The number of total training steps that will be run. Used for lr scheduler purposes.\"\"\"\n",
    "        dataset_size = len(self.trainer.datamodule.train_dataloader())\n",
    "        num_devices = max(1, self.trainer.gpus)  # TODO: consider num_tpu_cores\n",
    "        effective_batch_size = self.trainer.datamodule.batch_size * num_devices\n",
    "        return (dataset_size / effective_batch_size) * self.trainer.max_epochs\n",
    "\n",
    "    def generate(self, retrieved_examples, encoder_tokenizer, decoder_tokenizer, skip_special_tokens=True):\n",
    "        retrieved = [encoder_tokenizer.eos_token.join(r) for r in retrieved_examples]\n",
    "        input_ids = encoder_tokenizer(retrieved, return_tensors=\"pt\").input_ids\n",
    "        generated = self.model.generate(input_ids, decoder_start_token_id=self.model.config.decoder.bos_token_id)\n",
    "\n",
    "        return decoder_tokenizer.decode(generated, skip_special_tokens=skip_special_tokens)"
   ]
  },
  {
   "cell_type": "code",
   "execution_count": null,
   "metadata": {},
   "outputs": [
    {
     "name": "stdout",
     "output_type": "stream",
     "text": [
      "Converted 00_data.ipynb.\n",
      "Converted 01_model.ipynb.\n",
      "Converted 02_tutorial.ipynb.\n",
      "Converted index.ipynb.\n"
     ]
    }
   ],
   "source": [
    "# hide\n",
    "from nbdev.export import notebook2script\n",
    "\n",
    "notebook2script()"
   ]
  }
 ],
 "metadata": {
  "kernelspec": {
   "display_name": "Python 3",
   "language": "python",
   "name": "python3"
  }
 },
 "nbformat": 4,
 "nbformat_minor": 2
}
