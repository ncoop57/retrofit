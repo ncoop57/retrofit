{
 "cells": [
  {
   "cell_type": "code",
   "execution_count": null,
   "metadata": {},
   "outputs": [],
   "source": [
    "# default_exp model"
   ]
  },
  {
   "cell_type": "markdown",
   "metadata": {},
   "source": [
    "# Model\n",
    "\n",
    "> API details."
   ]
  },
  {
   "cell_type": "code",
   "execution_count": null,
   "metadata": {},
   "outputs": [],
   "source": [
    "#hide\n",
    "from nbdev.showdoc import *"
   ]
  },
  {
   "cell_type": "code",
   "execution_count": null,
   "metadata": {},
   "outputs": [],
   "source": [
    "# export\n",
    "import pytorch_lightning as pl\n",
    "\n",
    "from transformers import EncoderDecoderModel, AutoTokenizer"
   ]
  },
  {
   "cell_type": "code",
   "execution_count": null,
   "metadata": {},
   "outputs": [],
   "source": [
    "# export\n",
    "class RetroFitModel(pl.LightningModule):\n",
    "    def __init__(\n",
    "        self,\n",
    "        encoder_name,\n",
    "        decoder_name,\n",
    "        column,\n",
    "        weight_decay=0.1\n",
    "        lr=5e-4,\n",
    "        freeze_decoder=True\n",
    "    ):\n",
    "        self.encoder_tokenizer = AutoTokenizer.from_pretrained(encoder_name)\n",
    "        self.decoder_tokenizer = AutoTokenizer.from_pretrained(decoder_name)\n",
    "        self.column = column\n",
    "        self.weight_decay = weight_decay\n",
    "        self.lr = lr\n",
    "        self.lr_scheduler_type = lr_scheduler_type\n",
    "        self.freeze_decoder = freeze_decoder\n",
    "        self.model = EncoderDecoderModel.from_encoder_decoder_pretrained(encoder_name, decoder_name)\n",
    "\n",
    "    def training_step(self, batch, batch_idx):\n",
    "        retrieved = batch[\"retrieved_examples\"]\n",
    "        retrieved = [self.encoder_tokenizer.eos_token.join(r) for r in retrieved]\n",
    "        input_ids = self.encoder_tokenizer(retrieved, return_tensors=\"pt\").input_ids\n",
    "        labels = self.decoder_tokenizer(batch[self.column], return_tensors=\"pt\").input_ids\n",
    "        loss = self.model(input_ids=input_ids, labels=input_ids).loss\n",
    "\n",
    "        self.log(\"trn_loss\", loss, on_step=True, on_epoch=True, logger=True)\n",
    "        return loss\n",
    "    \n",
    "    def get_grouped_params(self, model, no_decay=[\"bias\", \"LayerNorm.weight\"]):\n",
    "        params_with_wd, params_without_wd = [], []\n",
    "        for n, p in model.named_parameters():\n",
    "            if any(nd in n for nd in no_decay):\n",
    "                params_without_wd.append(p)\n",
    "            else:\n",
    "                params_with_wd.append(p)\n",
    "        return [\n",
    "            {\"params\": params_with_wd, \"weight_decay\": self.weight_decay},\n",
    "            {\"params\": params_without_wd, \"weight_decay\": 0.0},\n",
    "        ]\n",
    "\n",
    "    def configure_optimizers(self, skip_special_tokens=True):\n",
    "        # Prepare the optimizer and learning rate scheduler\n",
    "        param_model = self.model if not freeze_decoder else self.model.encoder\n",
    "        optimizer = AdamW(self.get_grouped_params(param_model), lr=self.lr)\n",
    "        return optimizer\n",
    "\n",
    "    def generate(self, retrieved_examples):\n",
    "        retrieved = [self.encoder_tokenizer.eos_token.join(r) for r in retrieved_examples]\n",
    "        input_ids = self.encoder_tokenizer(retrieved, return_tensors=\"pt\").input_ids\n",
    "        generated = self.model.generate(input_ids, decoder_start_token_id=self.model.config.decoder.bos_token_id)\n",
    "\n",
    "        return self.decoder_tokenizer.decode(generated, skip_special_tokens=skip_special_tokens)"
   ]
  },
  {
   "cell_type": "code",
   "execution_count": null,
   "metadata": {},
   "outputs": [],
   "source": [
    "# hide\n",
    "from nbdev.export import notebook2script\n",
    "\n",
    "notebook2script()"
   ]
  }
 ],
 "metadata": {
  "kernelspec": {
   "display_name": "Python 3",
   "language": "python",
   "name": "python3"
  }
 },
 "nbformat": 4,
 "nbformat_minor": 2
}
