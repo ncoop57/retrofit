{
 "cells": [
  {
   "cell_type": "code",
   "execution_count": null,
   "metadata": {},
   "outputs": [],
   "source": [
    "# default_exp model"
   ]
  },
  {
   "cell_type": "markdown",
   "metadata": {},
   "source": [
    "# Model\n",
    "\n",
    "> API details."
   ]
  },
  {
   "cell_type": "code",
   "execution_count": null,
   "metadata": {},
   "outputs": [],
   "source": [
    "#hide\n",
    "from nbdev.showdoc import *"
   ]
  },
  {
   "cell_type": "code",
   "execution_count": null,
   "metadata": {},
   "outputs": [],
   "source": [
    "# export\n",
    "import torch\n",
    "\n",
    "import pytorch_lightning as pl\n",
    "\n",
    "from torch import nn, Tensor\n",
    "from torch.nn import CrossEntropyLoss, TransformerEncoder, TransformerEncoderLayer\n",
    "from transformers import AdamW, AutoConfig, AutoModelForCausalLM, get_cosine_with_hard_restarts_schedule_with_warmup as cosine_restart_schedule\n",
    "from transformers.models.encoder_decoder.modeling_encoder_decoder import shift_tokens_right"
   ]
  },
  {
   "cell_type": "code",
   "execution_count": null,
   "metadata": {},
   "outputs": [],
   "source": [
    "# export\n",
    "class RetroEncoder(nn.Module):\n",
    "    def __init__(self, d_model: int, nhead: int, d_hid: int,\n",
    "                 nlayers: int, dropout: float = 0.5):\n",
    "        super().__init__()\n",
    "        self.pos_emb = nn.Parameter(torch.zeros(1, d_model, d_hid))\n",
    "        encoder_layers = TransformerEncoderLayer(d_model, nhead, d_hid, dropout, batch_first=True)\n",
    "        self.transformer_encoder = TransformerEncoder(encoder_layers, nlayers)\n",
    "        self.d_model = d_model\n",
    "\n",
    "        self.drop = nn.Dropout(dropout)\n",
    "\n",
    "    def forward(self, x: Tensor, mask: Tensor = None) -> Tensor:\n",
    "        \"\"\"\n",
    "        Args:\n",
    "            src: Tensor, shape [seq_len, batch_size]\n",
    "            src_mask: Tensor, shape [seq_len, seq_len]\n",
    "\n",
    "        Returns:\n",
    "            output Tensor of shape [seq_len, batch_size, ntoken]\n",
    "        \"\"\"\n",
    "        pos_embeddings = self.pos_emb[:, :x.shape[1], :]\n",
    "        x = self.drop(x + pos_embeddings)\n",
    "        output = self.transformer_encoder(x, mask)\n",
    "        return output"
   ]
  },
  {
   "cell_type": "code",
   "execution_count": null,
   "metadata": {},
   "outputs": [],
   "source": [
    "# some tests for the above encoder\n",
    "encoder = RetroEncoder(d_model=768, nhead=8, d_hid=768, nlayers=6)\n",
    "test_data = torch.randn(1, 10, 768)\n",
    "# test_mask = torch.ones(1, 10)\n",
    "output = encoder(test_data)\n",
    "assert output.shape == (1, 10, 768)"
   ]
  },
  {
   "cell_type": "code",
   "execution_count": null,
   "metadata": {},
   "outputs": [],
   "source": [
    "# export\n",
    "class RetroFitModel(nn.Module):\n",
    "    def __init__(self, encoder_model: nn.Module, decoder_model_name: str):\n",
    "        super().__init__()\n",
    "        self.encoder_model = encoder_model\n",
    "\n",
    "        decoder_config = AutoConfig.from_pretrained(decoder_model_name)\n",
    "        decoder_config.is_decoder = True\n",
    "        decoder_config.add_cross_attention = True\n",
    "        self.decoder_model = AutoModelForCausalLM.from_pretrained(decoder_model_name, config=decoder_config)\n",
    "    \n",
    "    def forward(self, x: Tensor, mask: Tensor, labels: Tensor) -> Tensor:\n",
    "        encoder_output = self.encoder_model(x, mask)\n",
    "        decoder_input_ids = shift_tokens_right(\n",
    "            labels, self.decoder_model.config.eos_token_id, self.decoder_model.config.bos_token_id\n",
    "        )\n",
    "        decoder_output = self.decoder_model(\n",
    "            input_ids=decoder_input_ids, encoder_hidden_states=encoder_output\n",
    "        )\n",
    "        logits = decoder_output.logits\n",
    "        loss_fct = CrossEntropyLoss()\n",
    "        loss = loss_fct(logits.reshape(-1, self.decoder_model.config.vocab_size), labels.view(-1))\n",
    "\n",
    "        return loss"
   ]
  },
  {
   "cell_type": "code",
   "execution_count": null,
   "metadata": {},
   "outputs": [],
   "source": [
    "# some tests for the above model\n",
    "retro_model = RetroFitModel(encoder_model=encoder, decoder_model_name='gpt2')\n",
    "test_data = torch.randn(1, 10, 768)\n",
    "test_mask = torch.ones(1, 10)\n",
    "test_labels = torch.randint(0, retro_model.decoder_model.config.vocab_size, (1, 10))\n",
    "loss = retro_model(test_data, None, test_labels)\n",
    "assert loss.shape == ()\n",
    "assert loss.dtype == torch.float32\n",
    "assert retro_model.decoder_model.config.vocab_size == 50257"
   ]
  },
  {
   "cell_type": "code",
   "execution_count": null,
   "metadata": {},
   "outputs": [],
   "source": [
    "# export\n",
    "# Code from: https://github.com/huggingface/transformers/blob/master/examples/research_projects/codeparrot/scripts/codeparrot_training.py#L113\n",
    "def get_grouped_params(model, weight_decay, no_decay=[\"bias\", \"LayerNorm.weight\"]):\n",
    "    params_with_wd, params_without_wd = [], []\n",
    "    for n, p in model.named_parameters():\n",
    "        if any(nd in n for nd in no_decay):\n",
    "            params_without_wd.append(p)\n",
    "        else:\n",
    "            params_with_wd.append(p)\n",
    "    return [\n",
    "        {\"params\": params_with_wd, \"weight_decay\": weight_decay},\n",
    "        {\"params\": params_without_wd, \"weight_decay\": 0.0},\n",
    "    ]"
   ]
  },
  {
   "cell_type": "code",
   "execution_count": null,
   "metadata": {},
   "outputs": [],
   "source": [
    "weight_decayed_params, non_weight_decayed_params = get_grouped_params(retro_model, weight_decay=0.01)\n",
    "\n",
    "assert len(weight_decayed_params[\"params\"]) > 0\n",
    "assert len(non_weight_decayed_params[\"params\"]) > 0"
   ]
  },
  {
   "cell_type": "code",
   "execution_count": null,
   "metadata": {},
   "outputs": [],
   "source": [
    "# export\n",
    "class RetroFitModelWrapper(pl.LightningModule):\n",
    "    def __init__(\n",
    "        self,\n",
    "        model,\n",
    "        weight_decay=0.1,\n",
    "        lr=5e-4,\n",
    "        num_warmup_steps=2_000,\n",
    "        freeze_decoder=True\n",
    "    ):\n",
    "        super().__init__()\n",
    "        self.model = model\n",
    "        self.weight_decay = weight_decay\n",
    "        self.lr = lr\n",
    "        self.num_warmup_steps = num_warmup_steps\n",
    "        self.freeze_decoder = freeze_decoder\n",
    "\n",
    "        self.save_hyperparameters()\n",
    "\n",
    "    def training_step(self, batch, batch_idx):\n",
    "        loss = self.model(input_ids=batch[\"retrieved_input_ids\"], labels=batch[\"input_ids\"]).loss\n",
    "\n",
    "        self.log(\"trn_loss\", loss, on_step=True, on_epoch=True, logger=True)\n",
    "        return loss\n",
    "\n",
    "    def validation_step(self, batch, batch_idx):\n",
    "        loss = self.model(input_ids=batch[\"retrieved_input_ids\"], labels=batch[\"input_ids\"]).loss\n",
    "\n",
    "        self.log(\"val_loss\", loss, on_epoch=True, logger=True)\n",
    "        return loss\n",
    "    \n",
    "    def configure_optimizers(self):\n",
    "        # Prepare the optimizer and learning rate scheduler\n",
    "        param_model = self.model if not self.freeze_decoder else self.model.encoder\n",
    "        optimizer = AdamW(get_grouped_params(param_model, self.weight_decay), lr=self.lr)\n",
    "        lr_scheduler = cosine_restart_schedule(\n",
    "            optimizer=optimizer,\n",
    "            num_warmup_steps=self.num_warmup_steps,\n",
    "            num_training_steps=self.total_steps(),\n",
    "        )\n",
    "        return [optimizer], [lr_scheduler]\n",
    "    \n",
    "    def total_steps(self) -> int:\n",
    "        \"\"\"The number of total training steps that will be run. Used for lr scheduler purposes.\"\"\"\n",
    "        dataset_size = len(self.trainer.datamodule.train_dataloader())\n",
    "        num_devices = max(1, self.trainer.gpus)  # TODO: consider num_tpu_cores\n",
    "        effective_batch_size = self.trainer.datamodule.batch_size * num_devices\n",
    "        return (dataset_size / effective_batch_size) * self.trainer.max_epochs\n",
    "\n",
    "    def generate(self, retrieved_examples, encoder_tokenizer, decoder_tokenizer, skip_special_tokens=True):\n",
    "        retrieved = [encoder_tokenizer.eos_token.join(r) for r in retrieved_examples]\n",
    "        input_ids = encoder_tokenizer(retrieved, return_tensors=\"pt\").input_ids\n",
    "        generated = self.model.generate(input_ids, decoder_start_token_id=self.model.config.decoder.bos_token_id)\n",
    "\n",
    "        return decoder_tokenizer.decode(generated, skip_special_tokens=skip_special_tokens)"
   ]
  },
  {
   "cell_type": "code",
   "execution_count": null,
   "metadata": {},
   "outputs": [],
   "source": [
    "# hide\n",
    "from nbdev.export import notebook2script\n",
    "\n",
    "notebook2script()"
   ]
  }
 ],
 "metadata": {
  "kernelspec": {
   "display_name": "Python 3",
   "language": "python",
   "name": "python3"
  }
 },
 "nbformat": 4,
 "nbformat_minor": 2
}
