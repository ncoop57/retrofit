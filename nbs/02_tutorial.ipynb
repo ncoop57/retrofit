{
 "cells": [
  {
   "cell_type": "markdown",
   "metadata": {},
   "source": [
    "# Tutorial\n",
    "\n",
    "> API details."
   ]
  },
  {
   "cell_type": "code",
   "execution_count": null,
   "metadata": {},
   "outputs": [],
   "source": [
    "#hide\n",
    "from nbdev.showdoc import *"
   ]
  },
  {
   "cell_type": "code",
   "execution_count": null,
   "metadata": {},
   "outputs": [],
   "source": [
    "import torch\n",
    "import wandb\n",
    "\n",
    "import pytorch_lightning as pl\n",
    "\n",
    "# from codecarbon import EmissionsTracker\n",
    "from pathlib import Path\n",
    "from pytorch_lightning.callbacks import EarlyStopping, ModelCheckpoint, TQDMProgressBar\n",
    "from pytorch_lightning.loggers import WandbLogger\n",
    "from retrofit.data import RetroDataset\n",
    "from retrofit.model import RetroFitModelWrapper\n",
    "from transformers import AutoTokenizer, EncoderDecoderModel"
   ]
  },
  {
   "cell_type": "code",
   "execution_count": null,
   "metadata": {},
   "outputs": [
    {
     "name": "stderr",
     "output_type": "stream",
     "text": [
      "Some weights of GPT2LMHeadModel were not initialized from the model checkpoint at gpt2 and are newly initialized: ['h.10.ln_cross_attn.weight', 'h.5.crossattention.c_attn.weight', 'h.7.crossattention.c_proj.bias', 'h.8.crossattention.q_attn.weight', 'h.9.crossattention.c_proj.weight', 'h.6.crossattention.bias', 'h.7.crossattention.c_proj.weight', 'h.0.crossattention.c_proj.bias', 'h.7.crossattention.masked_bias', 'h.11.crossattention.bias', 'h.3.crossattention.bias', 'h.6.crossattention.c_proj.bias', 'h.0.ln_cross_attn.weight', 'h.2.crossattention.c_proj.weight', 'h.10.crossattention.c_proj.bias', 'h.9.crossattention.q_attn.weight', 'h.1.crossattention.q_attn.weight', 'h.9.crossattention.bias', 'h.11.crossattention.q_attn.weight', 'h.5.crossattention.q_attn.weight', 'h.8.crossattention.c_proj.bias', 'h.2.crossattention.bias', 'h.7.ln_cross_attn.weight', 'h.11.ln_cross_attn.weight', 'h.5.crossattention.bias', 'h.9.crossattention.masked_bias', 'h.6.crossattention.c_attn.weight', 'h.9.ln_cross_attn.weight', 'h.4.ln_cross_attn.weight', 'h.7.crossattention.c_attn.weight', 'h.3.crossattention.c_proj.bias', 'h.3.crossattention.c_attn.weight', 'h.10.crossattention.c_proj.weight', 'h.8.crossattention.c_proj.weight', 'h.8.crossattention.bias', 'h.0.crossattention.masked_bias', 'h.1.ln_cross_attn.weight', 'h.1.crossattention.c_attn.weight', 'h.4.crossattention.masked_bias', 'h.6.crossattention.masked_bias', 'h.10.crossattention.bias', 'h.5.crossattention.masked_bias', 'h.8.crossattention.c_attn.weight', 'h.10.crossattention.masked_bias', 'h.2.crossattention.c_attn.weight', 'h.6.crossattention.c_proj.weight', 'h.1.crossattention.c_proj.bias', 'h.11.crossattention.masked_bias', 'h.4.crossattention.bias', 'h.5.ln_cross_attn.weight', 'h.1.crossattention.c_proj.weight', 'h.8.ln_cross_attn.weight', 'h.11.crossattention.c_proj.weight', 'h.4.crossattention.c_attn.weight', 'h.4.crossattention.q_attn.weight', 'h.9.crossattention.c_proj.bias', 'h.2.ln_cross_attn.weight', 'h.11.crossattention.c_proj.bias', 'h.6.ln_cross_attn.weight', 'h.10.crossattention.c_attn.weight', 'h.8.crossattention.masked_bias', 'h.7.crossattention.bias', 'h.0.crossattention.c_proj.weight', 'h.7.crossattention.q_attn.weight', 'h.9.crossattention.c_attn.weight', 'h.10.crossattention.q_attn.weight', 'h.0.crossattention.c_attn.weight', 'h.2.crossattention.masked_bias', 'h.2.crossattention.q_attn.weight', 'h.3.crossattention.q_attn.weight', 'h.5.crossattention.c_proj.weight', 'h.4.crossattention.c_proj.bias', 'h.3.crossattention.c_proj.weight', 'h.1.crossattention.masked_bias', 'h.5.crossattention.c_proj.bias', 'h.1.crossattention.bias', 'h.11.crossattention.c_attn.weight', 'h.3.crossattention.masked_bias', 'h.4.crossattention.c_proj.weight', 'h.0.crossattention.bias', 'h.0.crossattention.q_attn.weight', 'h.3.ln_cross_attn.weight', 'h.6.crossattention.q_attn.weight', 'h.2.crossattention.c_proj.bias']\n",
      "You should probably TRAIN this model on a down-stream task to be able to use it for predictions and inference.\n"
     ]
    }
   ],
   "source": [
    "column = \"whole_func_string\"\n",
    "encoder_name = \"microsoft/codebert-base\"\n",
    "decoder_name = \"gpt2\"\n",
    "encoder_tokenizer = AutoTokenizer.from_pretrained(encoder_name)\n",
    "decoder_tokenizer = AutoTokenizer.from_pretrained(decoder_name)\n",
    "decoder_tokenizer.pad_token = decoder_tokenizer.eos_token\n",
    "retro_ds = RetroDataset(\n",
    "    \"code_search_net\",\n",
    "    \"flax-sentence-embeddings/st-codesearch-distilroberta-base\",\n",
    "    encoder_tokenizer,\n",
    "    decoder_tokenizer,\n",
    "    dataset_config=\"python\",\n",
    "    column=column,\n",
    "    batch_size=4,\n",
    "    k=2,\n",
    "    n_perc=2\n",
    ")\n",
    "\n",
    "model = EncoderDecoderModel.from_encoder_decoder_pretrained(encoder_name, decoder_name)\n",
    "model.config.decoder_start_token_id = decoder_tokenizer.bos_token_id\n",
    "model.config.pad_token_id = decoder_tokenizer.pad_token_id\n",
    "model.config.decoder_max_length = 512\n",
    "retro_model = RetroFitModelWrapper(\n",
    "    model,\n",
    "    weight_decay=0.1,\n",
    "    lr=5e-4,\n",
    "    freeze_decoder=True\n",
    ")"
   ]
  },
  {
   "cell_type": "code",
   "execution_count": null,
   "metadata": {},
   "outputs": [],
   "source": [
    "def train_model(model, data_module, num_epochs, output_dir, gradient_accumulation_steps=1):\n",
    "    \"\"\"\n",
    "    Train a model with a given training data loader, validation data loader,\n",
    "    optimizer, scheduler, loss function, metrics, and callbacks.\n",
    "\n",
    "    Args:\n",
    "        model (pl.LightningModule): The model to train.\n",
    "        data_module (pl.LightningDataModule): The data module to use for training.\n",
    "        num_epochs (int): The number of epochs to train for.\n",
    "        output_dir (pathlib.Path): The directory to save the model to.\n",
    "        name (str): The name of the model.\n",
    "    Returns:\n",
    "        best_model_path (str): The path to the best model's checkpoint.\n",
    "    \"\"\"\n",
    "    # pl.seed_everything(115, workers=True)\n",
    "    wandb_logger = WandbLogger(project=\"Retrofit\")\n",
    "    # saves a file like: my/path/sample-mnist-epoch=02-val_loss=0.32.ckpt\n",
    "    checkpoint_callback = ModelCheckpoint(\n",
    "        monitor=\"val_loss\",\n",
    "        dirpath=str(output_dir / \"checkpoints\"),\n",
    "        filename=\"retrofit-{epoch:02d}-{val_loss:.2f}\",\n",
    "        save_top_k=5,\n",
    "        mode=\"min\",\n",
    "    )\n",
    "    trainer = pl.Trainer(\n",
    "        logger=wandb_logger,\n",
    "        default_root_dir=str(output_dir / \"checkpoints\"),\n",
    "        gpus=torch.cuda.device_count(),\n",
    "        max_epochs=num_epochs,\n",
    "        limit_train_batches=0.1,\n",
    "        limit_val_batches=0.1,\n",
    "        precision=16,\n",
    "        accumulate_grad_batches=gradient_accumulation_steps,\n",
    "        callbacks=[\n",
    "            checkpoint_callback,\n",
    "            EarlyStopping(monitor=\"val_loss\"),\n",
    "            TQDMProgressBar(refresh_rate=1),\n",
    "        ],\n",
    "    )\n",
    "    # tracker = EmissionsTracker(output_dir=output_dir.parent.parent, project_name=wandb_logger.name)\n",
    "\n",
    "    # train the model and track emissions\n",
    "    # tracker.start()\n",
    "    trainer.fit(model, data_module)\n",
    "    # tracker.stop()\n",
    "\n",
    "    # save the best model to wandb\n",
    "    best_model_path = checkpoint_callback.best_model_path\n",
    "    if best_model_path is not None:\n",
    "        wandb.save(best_model_path)\n",
    "\n",
    "    # # save the emissions csv file\n",
    "    # wandb.save(str(output_dir.parent.parent / \"emissions.csv\"))\n",
    "\n",
    "    return best_model_path"
   ]
  },
  {
   "cell_type": "code",
   "execution_count": null,
   "metadata": {},
   "outputs": [
    {
     "name": "stderr",
     "output_type": "stream",
     "text": [
      "Using 16bit native Automatic Mixed Precision (AMP)\n",
      "GPU available: True, used: True\n",
      "TPU available: False, using: 0 TPU cores\n",
      "IPU available: False, using: 0 IPUs\n",
      "Reusing dataset code_search_net (/root/.cache/huggingface/datasets/code_search_net/python/1.0.0/80a244ab541c6b2125350b764dc5c2b715f65f00de7a56107a28915fac173a27)\n",
      "Reusing dataset code_search_net (/root/.cache/huggingface/datasets/code_search_net/python/1.0.0/80a244ab541c6b2125350b764dc5c2b715f65f00de7a56107a28915fac173a27)\n"
     ]
    },
    {
     "data": {
      "application/vnd.jupyter.widget-view+json": {
       "model_id": "8e2deb7ab1c04ceb99c14262ae6371f1",
       "version_major": 2,
       "version_minor": 0
      },
      "text/plain": [
       "  0%|          | 0/9 [00:00<?, ?ba/s]"
      ]
     },
     "metadata": {},
     "output_type": "display_data"
    },
    {
     "data": {
      "application/vnd.jupyter.widget-view+json": {
       "model_id": "d86ca62db3dd44a7820fdb13792baea3",
       "version_major": 2,
       "version_minor": 0
      },
      "text/plain": [
       "  0%|          | 0/9 [00:00<?, ?it/s]"
      ]
     },
     "metadata": {},
     "output_type": "display_data"
    },
    {
     "data": {
      "application/vnd.jupyter.widget-view+json": {
       "model_id": "b002d6c763434d8bbd35c8bdfb6882f7",
       "version_major": 2,
       "version_minor": 0
      },
      "text/plain": [
       "  0%|          | 0/1 [00:00<?, ?ba/s]"
      ]
     },
     "metadata": {},
     "output_type": "display_data"
    },
    {
     "data": {
      "application/vnd.jupyter.widget-view+json": {
       "model_id": "88872b3f4ef840fb8d8693d720547caf",
       "version_major": 2,
       "version_minor": 0
      },
      "text/plain": [
       "  0%|          | 0/8244 [00:00<?, ?ex/s]"
      ]
     },
     "metadata": {},
     "output_type": "display_data"
    },
    {
     "data": {
      "application/vnd.jupyter.widget-view+json": {
       "model_id": "8f4b7d7925d246429a8c45b392bf4a02",
       "version_major": 2,
       "version_minor": 0
      },
      "text/plain": [
       "  0%|          | 0/462 [00:00<?, ?ex/s]"
      ]
     },
     "metadata": {},
     "output_type": "display_data"
    },
    {
     "data": {
      "application/vnd.jupyter.widget-view+json": {
       "model_id": "a1ce48738a63443d820470f301ed644f",
       "version_major": 2,
       "version_minor": 0
      },
      "text/plain": [
       "  0%|          | 0/9 [00:00<?, ?ba/s]"
      ]
     },
     "metadata": {},
     "output_type": "display_data"
    },
    {
     "data": {
      "application/vnd.jupyter.widget-view+json": {
       "model_id": "ca7df5a3958842f2ba3002cfebafeefc",
       "version_major": 2,
       "version_minor": 0
      },
      "text/plain": [
       "  0%|          | 0/1 [00:00<?, ?ba/s]"
      ]
     },
     "metadata": {},
     "output_type": "display_data"
    },
    {
     "name": "stderr",
     "output_type": "stream",
     "text": [
      "LOCAL_RANK: 0 - CUDA_VISIBLE_DEVICES: [0]\n",
      "Failed to detect the name of this notebook, you can set it manually with the WANDB_NOTEBOOK_NAME environment variable to enable code saving.\n",
      "\u001b[34m\u001b[1mwandb\u001b[0m: Currently logged in as: \u001b[33mnatedog\u001b[0m (use `wandb login --relogin` to force relogin)\n"
     ]
    },
    {
     "data": {
      "text/html": [
       "\n",
       "                    Syncing run <strong><a href=\"https://wandb.ai/natedog/Retrofit/runs/14mvew9z\" target=\"_blank\">zesty-plant-19</a></strong> to <a href=\"https://wandb.ai/natedog/Retrofit\" target=\"_blank\">Weights & Biases</a> (<a href=\"https://docs.wandb.com/integrations/jupyter.html\" target=\"_blank\">docs</a>).<br/>\n",
       "\n",
       "                "
      ],
      "text/plain": [
       "<IPython.core.display.HTML object>"
      ]
     },
     "metadata": {},
     "output_type": "display_data"
    },
    {
     "name": "stderr",
     "output_type": "stream",
     "text": [
      "\n",
      "  | Name  | Type                | Params\n",
      "----------------------------------------------\n",
      "0 | model | EncoderDecoderModel | 277 M \n",
      "----------------------------------------------\n",
      "277 M     Trainable params\n",
      "0         Non-trainable params\n",
      "277 M     Total params\n",
      "554.905   Total estimated model params size (MB)\n",
      "/usr/local/lib/python3.8/dist-packages/pytorch_lightning/callbacks/model_checkpoint.py:617: UserWarning: Checkpoint directory /workspace/retrofit/data/output/model/checkpoints exists and is not empty.\n",
      "  rank_zero_warn(f\"Checkpoint directory {dirpath} exists and is not empty.\")\n"
     ]
    },
    {
     "data": {
      "application/vnd.jupyter.widget-view+json": {
       "model_id": "75e3270a89bf41e49958246189ca8339",
       "version_major": 2,
       "version_minor": 0
      },
      "text/plain": [
       "Validation sanity check: 0it [00:00, ?it/s]"
      ]
     },
     "metadata": {},
     "output_type": "display_data"
    },
    {
     "name": "stderr",
     "output_type": "stream",
     "text": [
      "/usr/local/lib/python3.8/dist-packages/pytorch_lightning/trainer/data_loading.py:110: UserWarning: The dataloader, val_dataloader 0, does not have many workers which may be a bottleneck. Consider increasing the value of the `num_workers` argument` (try 32 which is the number of cpus on this machine) in the `DataLoader` init to improve performance.\n",
      "  rank_zero_warn(\n",
      "/usr/local/lib/python3.8/dist-packages/transformers/models/encoder_decoder/modeling_encoder_decoder.py:524: FutureWarning: Version v4.12.0 introduces a better way to train encoder-decoder models by computing the loss inside the encoder-decoder framework rather than in the decoder itself. You may observe training discrepancies if fine-tuning a model trained with versions anterior to 4.12.0. The decoder_input_ids are now created based on the labels, no need to pass them yourself anymore.\n",
      "  warnings.warn(DEPRECATION_WARNING, FutureWarning)\n",
      "/usr/local/lib/python3.8/dist-packages/pytorch_lightning/trainer/data_loading.py:110: UserWarning: The dataloader, train_dataloader, does not have many workers which may be a bottleneck. Consider increasing the value of the `num_workers` argument` (try 32 which is the number of cpus on this machine) in the `DataLoader` init to improve performance.\n",
      "  rank_zero_warn(\n"
     ]
    },
    {
     "data": {
      "application/vnd.jupyter.widget-view+json": {
       "model_id": "e5a7ccb0f9c24b05be9205e51bf8a543",
       "version_major": 2,
       "version_minor": 0
      },
      "text/plain": [
       "Training: 0it [00:00, ?it/s]"
      ]
     },
     "metadata": {},
     "output_type": "display_data"
    },
    {
     "data": {
      "application/vnd.jupyter.widget-view+json": {
       "model_id": "91cec036c4ba41b4b0acbc031de198f1",
       "version_major": 2,
       "version_minor": 0
      },
      "text/plain": [
       "Validating: 0it [00:00, ?it/s]"
      ]
     },
     "metadata": {},
     "output_type": "display_data"
    },
    {
     "data": {
      "application/vnd.jupyter.widget-view+json": {
       "model_id": "5ff36e8372cd4e9a95e59107688fbd44",
       "version_major": 2,
       "version_minor": 0
      },
      "text/plain": [
       "Validating: 0it [00:00, ?it/s]"
      ]
     },
     "metadata": {},
     "output_type": "display_data"
    },
    {
     "data": {
      "application/vnd.jupyter.widget-view+json": {
       "model_id": "cb496b658afa4e02982dc27139f4c5c2",
       "version_major": 2,
       "version_minor": 0
      },
      "text/plain": [
       "Validating: 0it [00:00, ?it/s]"
      ]
     },
     "metadata": {},
     "output_type": "display_data"
    },
    {
     "data": {
      "application/vnd.jupyter.widget-view+json": {
       "model_id": "26b0880c4ce74ec7bb4c0361cd094f0f",
       "version_major": 2,
       "version_minor": 0
      },
      "text/plain": [
       "Validating: 0it [00:00, ?it/s]"
      ]
     },
     "metadata": {},
     "output_type": "display_data"
    },
    {
     "data": {
      "application/vnd.jupyter.widget-view+json": {
       "model_id": "c38b7d8efea64b3ca4662f5156527b60",
       "version_major": 2,
       "version_minor": 0
      },
      "text/plain": [
       "Validating: 0it [00:00, ?it/s]"
      ]
     },
     "metadata": {},
     "output_type": "display_data"
    },
    {
     "name": "stderr",
     "output_type": "stream",
     "text": [
      "\u001b[34m\u001b[1mwandb\u001b[0m: \u001b[33mWARNING\u001b[0m Saving files without folders. If you want to preserve sub directories pass base_path to wandb.save, i.e. wandb.save(\"/mnt/folder/file.h5\", base_path=\"/mnt\")\n"
     ]
    }
   ],
   "source": [
    "num_epochs = 5\n",
    "out_dir = Path(\"/workspace/retrofit/data/output/\")\n",
    "best_model_path = train_model(\n",
    "    retro_model,\n",
    "    retro_ds,\n",
    "    num_epochs=num_epochs,\n",
    "    output_dir=out_dir / \"model\",\n",
    "    gradient_accumulation_steps=4,\n",
    ")\n",
    "# model = RetroFitModel.load_from_checkpoint(best_model_path)"
   ]
  },
  {
   "cell_type": "code",
   "execution_count": null,
   "metadata": {},
   "outputs": [],
   "source": [
    "model = RetroFitModelWrapper.load_from_checkpoint(best_model_path)"
   ]
  },
  {
   "cell_type": "code",
   "execution_count": null,
   "metadata": {},
   "outputs": [],
   "source": []
  }
 ],
 "metadata": {
  "kernelspec": {
   "display_name": "Python 3",
   "language": "python",
   "name": "python3"
  }
 },
 "nbformat": 4,
 "nbformat_minor": 2
}
