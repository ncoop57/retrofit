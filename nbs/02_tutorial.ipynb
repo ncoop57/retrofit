{
 "cells": [
  {
   "cell_type": "markdown",
   "metadata": {},
   "source": [
    "# Tutorial\n",
    "\n",
    "> API details."
   ]
  },
  {
   "cell_type": "code",
   "execution_count": null,
   "metadata": {},
   "outputs": [],
   "source": [
    "#hide\n",
    "from nbdev.showdoc import *"
   ]
  },
  {
   "cell_type": "code",
   "execution_count": null,
   "metadata": {},
   "outputs": [],
   "source": [
    "import torch\n",
    "import wandb\n",
    "\n",
    "import pytorch_lightning as pl\n",
    "\n",
    "# from codecarbon import EmissionsTracker\n",
    "from pathlib import Path\n",
    "from pytorch_lightning.callbacks import EarlyStopping, ModelCheckpoint, TQDMProgressBar\n",
    "from pytorch_lightning.loggers import WandbLogger\n",
    "from retrofit.data import RetroDataset\n",
    "from retrofit.model import RetroFitModelWrapper\n",
    "from transformers import AutoTokenizer, EncoderDecoderModel"
   ]
  },
  {
   "cell_type": "code",
   "execution_count": null,
   "metadata": {},
   "outputs": [
    {
     "name": "stderr",
     "output_type": "stream",
     "text": [
      "Some weights of the model checkpoint at distilbert-base-uncased were not used when initializing DistilBertModel: ['vocab_layer_norm.bias', 'vocab_layer_norm.weight', 'vocab_transform.weight', 'vocab_transform.bias', 'vocab_projector.weight', 'vocab_projector.bias']\n",
      "- This IS expected if you are initializing DistilBertModel from the checkpoint of a model trained on another task or with another architecture (e.g. initializing a BertForSequenceClassification model from a BertForPreTraining model).\n",
      "- This IS NOT expected if you are initializing DistilBertModel from the checkpoint of a model that you expect to be exactly identical (initializing a BertForSequenceClassification model from a BertForSequenceClassification model).\n",
      "Some weights of GPT2LMHeadModel were not initialized from the model checkpoint at gpt2 and are newly initialized: ['h.2.crossattention.c_attn.weight', 'h.7.crossattention.c_attn.weight', 'h.0.crossattention.c_attn.weight', 'h.8.crossattention.masked_bias', 'h.9.ln_cross_attn.weight', 'h.8.crossattention.q_attn.weight', 'h.6.crossattention.c_proj.weight', 'h.11.crossattention.c_proj.bias', 'h.9.crossattention.c_proj.bias', 'h.3.crossattention.c_proj.bias', 'h.8.crossattention.c_proj.bias', 'h.2.crossattention.c_proj.weight', 'h.3.crossattention.c_proj.weight', 'h.11.ln_cross_attn.weight', 'h.1.crossattention.bias', 'h.4.crossattention.c_attn.weight', 'h.7.crossattention.q_attn.weight', 'h.2.crossattention.c_proj.bias', 'h.10.crossattention.bias', 'h.7.crossattention.masked_bias', 'h.1.crossattention.masked_bias', 'h.7.crossattention.c_proj.bias', 'h.0.ln_cross_attn.weight', 'h.6.crossattention.c_attn.weight', 'h.1.ln_cross_attn.weight', 'h.2.crossattention.q_attn.weight', 'h.4.crossattention.masked_bias', 'h.6.crossattention.masked_bias', 'h.11.crossattention.c_attn.weight', 'h.8.crossattention.c_attn.weight', 'h.10.ln_cross_attn.weight', 'h.8.crossattention.c_proj.weight', 'h.10.crossattention.masked_bias', 'h.5.crossattention.q_attn.weight', 'h.0.crossattention.masked_bias', 'h.0.crossattention.c_proj.weight', 'h.10.crossattention.c_attn.weight', 'h.4.crossattention.q_attn.weight', 'h.8.ln_cross_attn.weight', 'h.5.crossattention.c_attn.weight', 'h.5.crossattention.masked_bias', 'h.7.ln_cross_attn.weight', 'h.9.crossattention.c_attn.weight', 'h.0.crossattention.bias', 'h.3.crossattention.q_attn.weight', 'h.6.ln_cross_attn.weight', 'h.1.crossattention.c_proj.bias', 'h.6.crossattention.q_attn.weight', 'h.7.crossattention.c_proj.weight', 'h.11.crossattention.c_proj.weight', 'h.9.crossattention.c_proj.weight', 'h.7.crossattention.bias', 'h.3.crossattention.c_attn.weight', 'h.3.crossattention.bias', 'h.0.crossattention.c_proj.bias', 'h.2.crossattention.bias', 'h.2.crossattention.masked_bias', 'h.11.crossattention.bias', 'h.10.crossattention.c_proj.bias', 'h.10.crossattention.c_proj.weight', 'h.5.crossattention.c_proj.bias', 'h.6.crossattention.bias', 'h.10.crossattention.q_attn.weight', 'h.11.crossattention.q_attn.weight', 'h.9.crossattention.masked_bias', 'h.11.crossattention.masked_bias', 'h.4.ln_cross_attn.weight', 'h.4.crossattention.c_proj.bias', 'h.4.crossattention.c_proj.weight', 'h.1.crossattention.c_attn.weight', 'h.9.crossattention.q_attn.weight', 'h.2.ln_cross_attn.weight', 'h.5.ln_cross_attn.weight', 'h.3.crossattention.masked_bias', 'h.1.crossattention.q_attn.weight', 'h.5.crossattention.c_proj.weight', 'h.1.crossattention.c_proj.weight', 'h.9.crossattention.bias', 'h.8.crossattention.bias', 'h.0.crossattention.q_attn.weight', 'h.5.crossattention.bias', 'h.4.crossattention.bias', 'h.6.crossattention.c_proj.bias', 'h.3.ln_cross_attn.weight']\n",
      "You should probably TRAIN this model on a down-stream task to be able to use it for predictions and inference.\n"
     ]
    }
   ],
   "source": [
    "column = \"whole_func_string\"\n",
    "encoder_name = \"distilbert-base-uncased\"\n",
    "decoder_name = \"gpt2\"\n",
    "encoder_tokenizer = AutoTokenizer.from_pretrained(encoder_name)\n",
    "decoder_tokenizer = AutoTokenizer.from_pretrained(decoder_name)\n",
    "decoder_tokenizer.pad_token = decoder_tokenizer.eos_token\n",
    "retro_ds = RetroDataset(\n",
    "    \"code_search_net\",\n",
    "    \"flax-sentence-embeddings/st-codesearch-distilroberta-base\",\n",
    "    encoder_tokenizer,\n",
    "    decoder_tokenizer,\n",
    "    dataset_config=\"python\",\n",
    "    column=column,\n",
    "    batch_size=2,\n",
    "    k=2,\n",
    "    n_perc=1\n",
    ")\n",
    "\n",
    "model = EncoderDecoderModel.from_encoder_decoder_pretrained(encoder_name, decoder_name)\n",
    "model.config.decoder_start_token_id = decoder_tokenizer.bos_token_id\n",
    "model.config.pad_token_id = decoder_tokenizer.pad_token_id\n",
    "retro_model = RetroFitModelWrapper(\n",
    "    model,\n",
    "    weight_decay=0.1,\n",
    "    lr=5e-4,\n",
    "    freeze_decoder=True\n",
    ")"
   ]
  },
  {
   "cell_type": "code",
   "execution_count": null,
   "metadata": {},
   "outputs": [],
   "source": [
    "def train_model(model, data_module, num_epochs, output_dir, name=None):\n",
    "    \"\"\"\n",
    "    Train a model with a given training data loader, validation data loader,\n",
    "    optimizer, scheduler, loss function, metrics, and callbacks.\n",
    "\n",
    "    Args:\n",
    "        model (pl.LightningModule): The model to train.\n",
    "        data_module (pl.LightningDataModule): The data module to use for training.\n",
    "        num_epochs (int): The number of epochs to train for.\n",
    "        output_dir (pathlib.Path): The directory to save the model to.\n",
    "        name (str): The name of the model.\n",
    "    Returns:\n",
    "        best_model_path (str): The path to the best model's checkpoint.\n",
    "    \"\"\"\n",
    "    # pl.seed_everything(115, workers=True)\n",
    "    wandb_logger = WandbLogger(project=\"Retrofit\", name=name)\n",
    "    # saves a file like: my/path/sample-mnist-epoch=02-val_loss=0.32.ckpt\n",
    "    checkpoint_callback = ModelCheckpoint(\n",
    "        monitor=\"val_loss\",\n",
    "        dirpath=str(output_dir / \"checkpoints\"),\n",
    "        filename=\"retrofit-{epoch:02d}-{val_loss:.2f}\",\n",
    "        save_top_k=5,\n",
    "        mode=\"min\",\n",
    "    )\n",
    "    trainer = pl.Trainer(\n",
    "        logger=wandb_logger,\n",
    "        default_root_dir=str(output_dir / \"checkpoints\"),\n",
    "        gpus=torch.cuda.device_count(),\n",
    "        max_epochs=num_epochs,\n",
    "        limit_train_batches=0.2,\n",
    "        limit_val_batches=0.2,\n",
    "        precision=16,\n",
    "        callbacks=[\n",
    "            checkpoint_callback,\n",
    "            EarlyStopping(monitor=\"val_loss\"),\n",
    "            TQDMProgressBar(refresh_rate=1),\n",
    "        ],\n",
    "    )\n",
    "    # tracker = EmissionsTracker(output_dir=output_dir.parent.parent, project_name=name)\n",
    "\n",
    "    # train the model and track emissions\n",
    "    # tracker.start()\n",
    "    trainer.fit(model, data_module)\n",
    "    # tracker.stop()\n",
    "\n",
    "    # save the best model to wandb\n",
    "    best_model_path = checkpoint_callback.best_model_path\n",
    "    if best_model_path is not None:\n",
    "        wandb.save(best_model_path)\n",
    "\n",
    "    # # save the emissions csv file\n",
    "    # wandb.save(str(output_dir.parent.parent / \"emissions.csv\"))\n",
    "\n",
    "    return best_model_path"
   ]
  },
  {
   "cell_type": "code",
   "execution_count": null,
   "metadata": {},
   "outputs": [
    {
     "name": "stderr",
     "output_type": "stream",
     "text": [
      "Using 16bit native Automatic Mixed Precision (AMP)\n",
      "GPU available: True, used: True\n",
      "TPU available: False, using: 0 TPU cores\n",
      "IPU available: False, using: 0 IPUs\n",
      "Reusing dataset code_search_net (/root/.cache/huggingface/datasets/code_search_net/python/1.0.0/80a244ab541c6b2125350b764dc5c2b715f65f00de7a56107a28915fac173a27)\n",
      "Reusing dataset code_search_net (/root/.cache/huggingface/datasets/code_search_net/python/1.0.0/80a244ab541c6b2125350b764dc5c2b715f65f00de7a56107a28915fac173a27)\n"
     ]
    },
    {
     "data": {
      "application/vnd.jupyter.widget-view+json": {
       "model_id": "b0728370a3da4997b9af33293d76dac5",
       "version_major": 2,
       "version_minor": 0
      },
      "text/plain": [
       "  0%|          | 0/5 [00:00<?, ?ba/s]"
      ]
     },
     "metadata": {},
     "output_type": "display_data"
    },
    {
     "data": {
      "application/vnd.jupyter.widget-view+json": {
       "model_id": "b8f6b3debf6540dd8732eecc43172037",
       "version_major": 2,
       "version_minor": 0
      },
      "text/plain": [
       "  0%|          | 0/5 [00:00<?, ?it/s]"
      ]
     },
     "metadata": {},
     "output_type": "display_data"
    },
    {
     "data": {
      "application/vnd.jupyter.widget-view+json": {
       "model_id": "0611f2bf58524721896ba2b7c9fea19c",
       "version_major": 2,
       "version_minor": 0
      },
      "text/plain": [
       "  0%|          | 0/1 [00:00<?, ?ba/s]"
      ]
     },
     "metadata": {},
     "output_type": "display_data"
    },
    {
     "data": {
      "application/vnd.jupyter.widget-view+json": {
       "model_id": "a127c9d98fe34de3b82080978fd0d0e2",
       "version_major": 2,
       "version_minor": 0
      },
      "text/plain": [
       "  0%|          | 0/4122 [00:00<?, ?ex/s]"
      ]
     },
     "metadata": {},
     "output_type": "display_data"
    },
    {
     "data": {
      "application/vnd.jupyter.widget-view+json": {
       "model_id": "0fb4e7194fa44a8380531a6ce6523371",
       "version_major": 2,
       "version_minor": 0
      },
      "text/plain": [
       "  0%|          | 0/231 [00:00<?, ?ex/s]"
      ]
     },
     "metadata": {},
     "output_type": "display_data"
    },
    {
     "data": {
      "application/vnd.jupyter.widget-view+json": {
       "model_id": "5839507131b44dca9a987003f3dfca74",
       "version_major": 2,
       "version_minor": 0
      },
      "text/plain": [
       "  0%|          | 0/5 [00:00<?, ?ba/s]"
      ]
     },
     "metadata": {},
     "output_type": "display_data"
    },
    {
     "data": {
      "application/vnd.jupyter.widget-view+json": {
       "model_id": "609f413584fa4571b3388fd15b369ca9",
       "version_major": 2,
       "version_minor": 0
      },
      "text/plain": [
       "  0%|          | 0/1 [00:00<?, ?ba/s]"
      ]
     },
     "metadata": {},
     "output_type": "display_data"
    },
    {
     "name": "stderr",
     "output_type": "stream",
     "text": [
      "LOCAL_RANK: 0 - CUDA_VISIBLE_DEVICES: [0]\n",
      "Failed to detect the name of this notebook, you can set it manually with the WANDB_NOTEBOOK_NAME environment variable to enable code saving.\n",
      "\u001b[34m\u001b[1mwandb\u001b[0m: Currently logged in as: \u001b[33mnatedog\u001b[0m (use `wandb login --relogin` to force relogin)\n"
     ]
    },
    {
     "data": {
      "text/html": [
       "\n",
       "                    Syncing run <strong><a href=\"https://wandb.ai/natedog/Retrofit/runs/2nkmicpv\" target=\"_blank\">test</a></strong> to <a href=\"https://wandb.ai/natedog/Retrofit\" target=\"_blank\">Weights & Biases</a> (<a href=\"https://docs.wandb.com/integrations/jupyter.html\" target=\"_blank\">docs</a>).<br/>\n",
       "\n",
       "                "
      ],
      "text/plain": [
       "<IPython.core.display.HTML object>"
      ]
     },
     "metadata": {},
     "output_type": "display_data"
    },
    {
     "name": "stderr",
     "output_type": "stream",
     "text": [
      "\n",
      "  | Name  | Type                | Params\n",
      "----------------------------------------------\n",
      "0 | model | EncoderDecoderModel | 219 M \n",
      "----------------------------------------------\n",
      "219 M     Trainable params\n",
      "0         Non-trainable params\n",
      "219 M     Total params\n",
      "438.339   Total estimated model params size (MB)\n",
      "/usr/local/lib/python3.8/dist-packages/pytorch_lightning/callbacks/model_checkpoint.py:617: UserWarning: Checkpoint directory /workspace/retrofit/data/output/model/checkpoints exists and is not empty.\n",
      "  rank_zero_warn(f\"Checkpoint directory {dirpath} exists and is not empty.\")\n"
     ]
    },
    {
     "data": {
      "application/vnd.jupyter.widget-view+json": {
       "model_id": "cf8ed9a12f294dec8afa7af2017f0017",
       "version_major": 2,
       "version_minor": 0
      },
      "text/plain": [
       "Validation sanity check: 0it [00:00, ?it/s]"
      ]
     },
     "metadata": {},
     "output_type": "display_data"
    },
    {
     "name": "stderr",
     "output_type": "stream",
     "text": [
      "/usr/local/lib/python3.8/dist-packages/pytorch_lightning/trainer/data_loading.py:110: UserWarning: The dataloader, val_dataloader 0, does not have many workers which may be a bottleneck. Consider increasing the value of the `num_workers` argument` (try 32 which is the number of cpus on this machine) in the `DataLoader` init to improve performance.\n",
      "  rank_zero_warn(\n",
      "/usr/local/lib/python3.8/dist-packages/transformers/models/encoder_decoder/modeling_encoder_decoder.py:527: FutureWarning: Version v4.12.0 introduces a better way to train encoder-decoder models by computing the loss inside the encoder-decoder framework rather than in the decoder itself. You may observe training discrepancies if fine-tuning a model trained with versions anterior to 4.12.0. The decoder_input_ids are now created based on the labels, no need to pass them yourself anymore.\n",
      "  warnings.warn(DEPRECATION_WARNING, FutureWarning)\n",
      "/usr/local/lib/python3.8/dist-packages/pytorch_lightning/trainer/data_loading.py:110: UserWarning: The dataloader, train_dataloader, does not have many workers which may be a bottleneck. Consider increasing the value of the `num_workers` argument` (try 32 which is the number of cpus on this machine) in the `DataLoader` init to improve performance.\n",
      "  rank_zero_warn(\n"
     ]
    },
    {
     "data": {
      "application/vnd.jupyter.widget-view+json": {
       "model_id": "56f4f58873d646aebabd3531564e609e",
       "version_major": 2,
       "version_minor": 0
      },
      "text/plain": [
       "Training: 0it [00:00, ?it/s]"
      ]
     },
     "metadata": {},
     "output_type": "display_data"
    },
    {
     "data": {
      "application/vnd.jupyter.widget-view+json": {
       "model_id": "98a4da7f0809415fa28a9e279cdbf26e",
       "version_major": 2,
       "version_minor": 0
      },
      "text/plain": [
       "Validating: 0it [00:00, ?it/s]"
      ]
     },
     "metadata": {},
     "output_type": "display_data"
    },
    {
     "data": {
      "application/vnd.jupyter.widget-view+json": {
       "model_id": "53d118416d004ea99b8c443776e76a3d",
       "version_major": 2,
       "version_minor": 0
      },
      "text/plain": [
       "Validating: 0it [00:00, ?it/s]"
      ]
     },
     "metadata": {},
     "output_type": "display_data"
    },
    {
     "name": "stderr",
     "output_type": "stream",
     "text": [
      "\u001b[34m\u001b[1mwandb\u001b[0m: \u001b[33mWARNING\u001b[0m Saving files without folders. If you want to preserve sub directories pass base_path to wandb.save, i.e. wandb.save(\"/mnt/folder/file.h5\", base_path=\"/mnt\")\n"
     ]
    }
   ],
   "source": [
    "num_epochs = 2\n",
    "out_dir = Path(\"/workspace/retrofit/data/output/\")\n",
    "best_model_path = train_model(\n",
    "    retro_model,\n",
    "    retro_ds,\n",
    "    num_epochs=num_epochs,\n",
    "    output_dir=out_dir / \"model\",\n",
    "    name=\"test\",\n",
    ")\n",
    "# model = RetroFitModel.load_from_checkpoint(best_model_path)"
   ]
  },
  {
   "cell_type": "code",
   "execution_count": null,
   "metadata": {},
   "outputs": [],
   "source": []
  }
 ],
 "metadata": {
  "kernelspec": {
   "display_name": "Python 3",
   "language": "python",
   "name": "python3"
  }
 },
 "nbformat": 4,
 "nbformat_minor": 2
}
