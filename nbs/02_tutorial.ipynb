{
 "cells": [
  {
   "cell_type": "markdown",
   "metadata": {},
   "source": [
    "# Tutorial\n",
    "\n",
    "> API details."
   ]
  },
  {
   "cell_type": "code",
   "execution_count": null,
   "metadata": {},
   "outputs": [],
   "source": [
    "#hide\n",
    "from nbdev.showdoc import *"
   ]
  },
  {
   "cell_type": "code",
   "execution_count": null,
   "metadata": {},
   "outputs": [],
   "source": [
    "import torch\n",
    "\n",
    "import pytorch_lightning as pl\n",
    "\n",
    "# from codecarbon import EmissionsTracker\n",
    "from pathlib import Path\n",
    "from pytorch_lightning.callbacks import EarlyStopping, ModelCheckpoint, TQDMProgressBar\n",
    "from pytorch_lightning.loggers import WandbLogger\n",
    "from retrofit.data import RetroDataset\n",
    "from retrofit.model import RetroFitModel"
   ]
  },
  {
   "cell_type": "code",
   "execution_count": null,
   "metadata": {},
   "outputs": [],
   "source": [
    "column = \"whole_func_string\"\n",
    "retro_ds = RetroDataset(\n",
    "    \"code_search_net\",\n",
    "    \"flax-sentence-embeddings/st-codesearch-distilroberta-base\",\n",
    "    \"distilbert-base-uncased\",\n",
    "    \"gpt2\",\n",
    "    dataset_config=\"python\",\n",
    "    column=column,\n",
    "    batch_size=2,\n",
    "    k=2,\n",
    "    n_perc=1\n",
    ")\n",
    "model = RetroFitModel(\n",
    "    \"distilbert-base-uncased\",\n",
    "    \"gpt2\",\n",
    "    column,\n",
    "    weight_decay=0.1,\n",
    "    lr=5e-4,\n",
    "    freeze_decoder=True\n",
    ")"
   ]
  },
  {
   "cell_type": "code",
   "execution_count": null,
   "metadata": {},
   "outputs": [],
   "source": [
    "def train_model(model, data_module, num_epochs, output_dir, name=None):\n",
    "    \"\"\"\n",
    "    Train a model with a given training data loader, validation data loader,\n",
    "    optimizer, scheduler, loss function, metrics, and callbacks.\n",
    "\n",
    "    Args:\n",
    "        model (pl.LightningModule): The model to train.\n",
    "        data_module (pl.LightningDataModule): The data module to use for training.\n",
    "        num_epochs (int): The number of epochs to train for.\n",
    "        output_dir (pathlib.Path): The directory to save the model to.\n",
    "        name (str): The name of the model.\n",
    "    Returns:\n",
    "        best_model_path (str): The path to the best model's checkpoint.\n",
    "    \"\"\"\n",
    "    # pl.seed_everything(115, workers=True)\n",
    "    wandb_logger = WandbLogger(project=\"Athena\", name=name)\n",
    "    # saves a file like: my/path/sample-mnist-epoch=02-val_loss=0.32.ckpt\n",
    "    checkpoint_callback = ModelCheckpoint(\n",
    "        monitor=\"val_loss\",\n",
    "        dirpath=str(output_dir / \"checkpoints\"),\n",
    "        filename=\"retrofit-{epoch:02d}-{val_loss:.2f}\",\n",
    "        save_top_k=5,\n",
    "        mode=\"min\",\n",
    "    )\n",
    "    trainer = pl.Trainer(\n",
    "        logger=wandb_logger,\n",
    "        default_root_dir=str(output_dir / \"checkpoints\"),\n",
    "        gpus=torch.cuda.device_count(),\n",
    "        max_epochs=num_epochs,\n",
    "        # precision=16,\n",
    "        callbacks=[\n",
    "            checkpoint_callback,\n",
    "            EarlyStopping(monitor=\"val_loss\"),\n",
    "            TQDMProgressBar(refresh_rate=1),\n",
    "        ],\n",
    "    )\n",
    "    # tracker = EmissionsTracker(output_dir=output_dir.parent.parent, project_name=name)\n",
    "\n",
    "    # train the model and track emissions\n",
    "    # tracker.start()\n",
    "    trainer.fit(model, data_module)\n",
    "    # tracker.stop()\n",
    "\n",
    "    # save the best model to wandb\n",
    "    best_model_path = checkpoint_callback.best_model_path\n",
    "    # if best_model_path is not None:\n",
    "    #     wandb.save(best_model_path)\n",
    "\n",
    "    # # save the emissions csv file\n",
    "    # wandb.save(str(output_dir.parent.parent / \"emissions.csv\"))\n",
    "\n",
    "    return checkpoint_callback.best_model_path"
   ]
  },
  {
   "cell_type": "code",
   "execution_count": null,
   "metadata": {},
   "outputs": [],
   "source": [
    "num_epochs = 2\n",
    "out_dir = Path(\"/workspace/retrofit/data/output/\")\n",
    "best_model_path = train_model(\n",
    "    model,\n",
    "    retro_ds,\n",
    "    num_epochs=num_epochs,\n",
    "    output_dir=out_dir / \"model\",\n",
    "    name=\"test\",\n",
    ")\n",
    "model = RetroFitModel.load_from_checkpoint(best_model_path)"
   ]
  },
  {
   "cell_type": "code",
   "execution_count": null,
   "metadata": {},
   "outputs": [],
   "source": []
  }
 ],
 "metadata": {
  "kernelspec": {
   "display_name": "Python 3",
   "language": "python",
   "name": "python3"
  }
 },
 "nbformat": 4,
 "nbformat_minor": 2
}
