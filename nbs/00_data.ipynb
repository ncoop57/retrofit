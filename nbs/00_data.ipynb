{
 "cells": [
  {
   "cell_type": "code",
   "execution_count": null,
   "metadata": {},
   "outputs": [],
   "source": [
    "# default_exp data"
   ]
  },
  {
   "cell_type": "markdown",
   "metadata": {},
   "source": [
    "# Data\n",
    "\n",
    "> API details."
   ]
  },
  {
   "cell_type": "code",
   "execution_count": null,
   "metadata": {},
   "outputs": [],
   "source": [
    "#hide\n",
    "from nbdev.showdoc import *"
   ]
  },
  {
   "cell_type": "code",
   "execution_count": null,
   "metadata": {},
   "outputs": [],
   "source": [
    "# export\n",
    "import pytorch_lightning as pl\n",
    "\n",
    "from datasets import load_dataset\n",
    "from sentence_transformers import SentenceTransformer\n",
    "from torch.utils.data.dataloader import DataLoader"
   ]
  },
  {
   "cell_type": "code",
   "execution_count": null,
   "metadata": {},
   "outputs": [],
   "source": [
    "# export\n",
    "class RetroDataset(pl.LightningDataModule):\n",
    "    def __init__(self, dataset_name, column, encoder_name, batch_size=32, k=10, n_perc=100):\n",
    "        self.dataset_name = dataset_name\n",
    "        self.column = column\n",
    "        self.encoder_name = encoder_name\n",
    "        self.batch_size = batch_size\n",
    "        self.k = k\n",
    "        self.n_perc = n_perc\n",
    "    \n",
    "    def setup(self, stage=None):\n",
    "        model = SentenceTransformer('flax-sentence-embeddings/st-codesearch-distilroberta-base')\n",
    "        ds = load_dataset(self.dataset_name, \"python\", split=f\"train[:{self.n_perc}]\")\n",
    "        train_ds = ds[\"train\"]\n",
    "        train_ds = train_ds.map(lambda example: {\"embeddings\": model.encode(example[self.column])}, batched=True)\n",
    "        train_ds.add_faiss_index(column=\"embeddings\")\n",
    "\n",
    "        def get_nearest_neighbors(example):\n",
    "            _, retrieved_examples = train_ds.get_nearest_examples(\"embeddings\", example[\"embeddings\"], k=10)\n",
    "            example[\"retrieved_examples\"] = retrieved_examples[self.column]\n",
    "\n",
    "            return example\n",
    "        \n",
    "        self.train_ds = train_ds.map(get_nearest_neighbors)\n",
    "    \n",
    "    def train_dataloader(self):\n",
    "        return DataLoader(self.train_ds, batch_size=self.batch_size)"
   ]
  }
 ],
 "metadata": {
  "kernelspec": {
   "display_name": "Python 3",
   "language": "python",
   "name": "python3"
  }
 },
 "nbformat": 4,
 "nbformat_minor": 2
}
